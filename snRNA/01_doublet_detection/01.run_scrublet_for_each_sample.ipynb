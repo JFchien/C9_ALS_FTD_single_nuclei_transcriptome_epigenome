{
 "cells": [
  {
   "cell_type": "code",
   "execution_count": 1,
   "metadata": {},
   "outputs": [],
   "source": [
    "%matplotlib inline\n",
    "import scanpy as sc\n",
    "import scrublet as scr\n",
    "import scipy.io\n",
    "import matplotlib.pyplot as plt\n",
    "import numpy as np\n",
    "import pandas as pd\n",
    "import os\n",
    "import gzip"
   ]
  },
  {
   "cell_type": "code",
   "execution_count": 2,
   "metadata": {},
   "outputs": [],
   "source": [
    "## rewrite 'load_genes' in scrublet to make it compatiable to gzip files\n",
    "def load_genes(filename, delimiter='\\t', column=0, skip_rows=0):\n",
    "    gene_list = []\n",
    "    gene_dict = {}\n",
    "\n",
    "    with gzip.open(filename) as f:\n",
    "        for iL in range(skip_rows):\n",
    "            f.readline()\n",
    "        for l in f:\n",
    "            gene = l.decode().strip('\\n').split(delimiter)[column]\n",
    "            if gene in gene_dict:\n",
    "                gene_dict[gene] += 1\n",
    "                gene_list.append(gene + '__' + str(gene_dict[gene]))\n",
    "                if gene_dict[gene] == 2:\n",
    "                    i = gene_list.index(gene)\n",
    "                    gene_list[i] = gene + '__1'\n",
    "            else: \n",
    "                gene_dict[gene] = 1\n",
    "                gene_list.append(gene)\n",
    "    return gene_list"
   ]
  },
  {
   "cell_type": "code",
   "execution_count": 3,
   "metadata": {},
   "outputs": [],
   "source": [
    "plt.rcParams['font.family'] = 'sans-serif'\n",
    "plt.rcParams['font.sans-serif'] = 'Arial'\n",
    "plt.rc('font', size=14)\n",
    "plt.rcParams['pdf.fonttype'] = 42"
   ]
  },
  {
   "cell_type": "code",
   "execution_count": 4,
   "metadata": {
    "tags": []
   },
   "outputs": [
    {
     "name": "stderr",
     "output_type": "stream",
     "text": [
      "Variable names are not unique. To make them unique, call `.var_names_make_unique`.\n",
      "Variable names are not unique. To make them unique, call `.var_names_make_unique`.\n"
     ]
    },
    {
     "name": "stdout",
     "output_type": "stream",
     "text": [
      "Counts matrix shape: 6931 rows(cells), 33538 columns(genes)\n",
      "Preprocessing...\n"
     ]
    },
    {
     "name": "stderr",
     "output_type": "stream",
     "text": [
      "/cndd/junhao/anaconda3/envs/scanpy_scrublet/lib/python3.7/site-packages/scrublet/helper_functions.py:321: RuntimeWarning: divide by zero encountered in true_divide\n",
      "  w.setdiag(float(target_total) / tots_use)\n"
     ]
    },
    {
     "name": "stdout",
     "output_type": "stream",
     "text": [
      "Simulating doublets...\n",
      "Embedding transcriptomes using PCA...\n",
      "Calculating doublet scores...\n",
      "Automatically set threshold at doublet score = 0.23\n",
      "Detected doublet rate = 3.0%\n",
      "Estimated detectable doublet fraction = 37.7%\n",
      "Overall doublet rate:\n",
      "\tExpected   = 6.0%\n",
      "\tEstimated  = 8.0%\n",
      "Elapsed time: 22.9 seconds\n",
      "Detected doublet rate = 3.4%\n",
      "Estimated detectable doublet fraction = 40.9%\n",
      "Overall doublet rate:\n",
      "\tExpected   = 6.0%\n",
      "\tEstimated  = 8.2%\n",
      "Running UMAP...\n",
      "Done.\n"
     ]
    },
    {
     "name": "stderr",
     "output_type": "stream",
     "text": [
      "Variable names are not unique. To make them unique, call `.var_names_make_unique`.\n",
      "Variable names are not unique. To make them unique, call `.var_names_make_unique`.\n"
     ]
    },
    {
     "name": "stdout",
     "output_type": "stream",
     "text": [
      "Counts matrix shape: 7026 rows(cells), 33538 columns(genes)\n",
      "Preprocessing...\n"
     ]
    },
    {
     "name": "stderr",
     "output_type": "stream",
     "text": [
      "/cndd/junhao/anaconda3/envs/scanpy_scrublet/lib/python3.7/site-packages/scrublet/helper_functions.py:321: RuntimeWarning: divide by zero encountered in true_divide\n",
      "  w.setdiag(float(target_total) / tots_use)\n"
     ]
    },
    {
     "name": "stdout",
     "output_type": "stream",
     "text": [
      "Simulating doublets...\n",
      "Embedding transcriptomes using PCA...\n",
      "Calculating doublet scores...\n",
      "Automatically set threshold at doublet score = 0.37\n",
      "Detected doublet rate = 1.1%\n",
      "Estimated detectable doublet fraction = 28.4%\n",
      "Overall doublet rate:\n",
      "\tExpected   = 6.0%\n",
      "\tEstimated  = 3.9%\n",
      "Elapsed time: 21.9 seconds\n",
      "Detected doublet rate = 2.9%\n",
      "Estimated detectable doublet fraction = 43.5%\n",
      "Overall doublet rate:\n",
      "\tExpected   = 6.0%\n",
      "\tEstimated  = 6.6%\n",
      "Running UMAP...\n",
      "Done.\n"
     ]
    },
    {
     "name": "stderr",
     "output_type": "stream",
     "text": [
      "Variable names are not unique. To make them unique, call `.var_names_make_unique`.\n",
      "Variable names are not unique. To make them unique, call `.var_names_make_unique`.\n"
     ]
    },
    {
     "name": "stdout",
     "output_type": "stream",
     "text": [
      "Counts matrix shape: 7272 rows(cells), 33538 columns(genes)\n",
      "Preprocessing...\n"
     ]
    },
    {
     "name": "stderr",
     "output_type": "stream",
     "text": [
      "/cndd/junhao/anaconda3/envs/scanpy_scrublet/lib/python3.7/site-packages/scrublet/helper_functions.py:321: RuntimeWarning: divide by zero encountered in true_divide\n",
      "  w.setdiag(float(target_total) / tots_use)\n"
     ]
    },
    {
     "name": "stdout",
     "output_type": "stream",
     "text": [
      "Simulating doublets...\n",
      "Embedding transcriptomes using PCA...\n",
      "Calculating doublet scores...\n",
      "Automatically set threshold at doublet score = 0.63\n",
      "Detected doublet rate = 0.1%\n",
      "Estimated detectable doublet fraction = 3.8%\n",
      "Overall doublet rate:\n",
      "\tExpected   = 6.0%\n",
      "\tEstimated  = 3.6%\n",
      "Elapsed time: 26.7 seconds\n",
      "Detected doublet rate = 3.1%\n",
      "Estimated detectable doublet fraction = 36.9%\n",
      "Overall doublet rate:\n",
      "\tExpected   = 6.0%\n",
      "\tEstimated  = 8.4%\n",
      "Running UMAP...\n",
      "Done.\n"
     ]
    },
    {
     "name": "stderr",
     "output_type": "stream",
     "text": [
      "Variable names are not unique. To make them unique, call `.var_names_make_unique`.\n",
      "Variable names are not unique. To make them unique, call `.var_names_make_unique`.\n"
     ]
    },
    {
     "name": "stdout",
     "output_type": "stream",
     "text": [
      "Counts matrix shape: 4783 rows(cells), 33538 columns(genes)\n",
      "Preprocessing...\n"
     ]
    },
    {
     "name": "stderr",
     "output_type": "stream",
     "text": [
      "/cndd/junhao/anaconda3/envs/scanpy_scrublet/lib/python3.7/site-packages/scrublet/helper_functions.py:321: RuntimeWarning: divide by zero encountered in true_divide\n",
      "  w.setdiag(float(target_total) / tots_use)\n"
     ]
    },
    {
     "name": "stdout",
     "output_type": "stream",
     "text": [
      "Simulating doublets...\n",
      "Embedding transcriptomes using PCA...\n",
      "Calculating doublet scores...\n",
      "Automatically set threshold at doublet score = 0.27\n",
      "Detected doublet rate = 2.0%\n",
      "Estimated detectable doublet fraction = 19.8%\n",
      "Overall doublet rate:\n",
      "\tExpected   = 6.0%\n",
      "\tEstimated  = 9.9%\n",
      "Elapsed time: 11.4 seconds\n",
      "Detected doublet rate = 3.2%\n",
      "Estimated detectable doublet fraction = 27.7%\n",
      "Overall doublet rate:\n",
      "\tExpected   = 6.0%\n",
      "\tEstimated  = 11.5%\n",
      "Running UMAP...\n",
      "Done.\n"
     ]
    },
    {
     "name": "stderr",
     "output_type": "stream",
     "text": [
      "Variable names are not unique. To make them unique, call `.var_names_make_unique`.\n",
      "Variable names are not unique. To make them unique, call `.var_names_make_unique`.\n"
     ]
    },
    {
     "name": "stdout",
     "output_type": "stream",
     "text": [
      "Counts matrix shape: 7254 rows(cells), 33538 columns(genes)\n",
      "Preprocessing...\n"
     ]
    },
    {
     "name": "stderr",
     "output_type": "stream",
     "text": [
      "/cndd/junhao/anaconda3/envs/scanpy_scrublet/lib/python3.7/site-packages/scrublet/helper_functions.py:321: RuntimeWarning: divide by zero encountered in true_divide\n",
      "  w.setdiag(float(target_total) / tots_use)\n"
     ]
    },
    {
     "name": "stdout",
     "output_type": "stream",
     "text": [
      "Simulating doublets...\n",
      "Embedding transcriptomes using PCA...\n",
      "Calculating doublet scores...\n",
      "Warning: failed to automatically identify doublet score threshold. Run `call_doublets` with user-specified threshold.\n",
      "Elapsed time: 14.5 seconds\n",
      "Detected doublet rate = 3.3%\n",
      "Estimated detectable doublet fraction = 39.3%\n",
      "Overall doublet rate:\n",
      "\tExpected   = 6.0%\n",
      "\tEstimated  = 8.3%\n",
      "Running UMAP...\n",
      "Done.\n"
     ]
    },
    {
     "name": "stderr",
     "output_type": "stream",
     "text": [
      "Variable names are not unique. To make them unique, call `.var_names_make_unique`.\n",
      "Variable names are not unique. To make them unique, call `.var_names_make_unique`.\n"
     ]
    },
    {
     "name": "stdout",
     "output_type": "stream",
     "text": [
      "Counts matrix shape: 7501 rows(cells), 33538 columns(genes)\n",
      "Preprocessing...\n"
     ]
    },
    {
     "name": "stderr",
     "output_type": "stream",
     "text": [
      "/cndd/junhao/anaconda3/envs/scanpy_scrublet/lib/python3.7/site-packages/scrublet/helper_functions.py:321: RuntimeWarning: divide by zero encountered in true_divide\n",
      "  w.setdiag(float(target_total) / tots_use)\n"
     ]
    },
    {
     "name": "stdout",
     "output_type": "stream",
     "text": [
      "Simulating doublets...\n",
      "Embedding transcriptomes using PCA...\n",
      "Calculating doublet scores...\n",
      "Automatically set threshold at doublet score = 0.22\n",
      "Detected doublet rate = 3.5%\n",
      "Estimated detectable doublet fraction = 40.0%\n",
      "Overall doublet rate:\n",
      "\tExpected   = 6.0%\n",
      "\tEstimated  = 8.9%\n",
      "Elapsed time: 19.9 seconds\n",
      "Detected doublet rate = 3.8%\n",
      "Estimated detectable doublet fraction = 41.2%\n",
      "Overall doublet rate:\n",
      "\tExpected   = 6.0%\n",
      "\tEstimated  = 9.1%\n",
      "Running UMAP...\n",
      "Done.\n"
     ]
    },
    {
     "name": "stderr",
     "output_type": "stream",
     "text": [
      "Variable names are not unique. To make them unique, call `.var_names_make_unique`.\n",
      "Variable names are not unique. To make them unique, call `.var_names_make_unique`.\n"
     ]
    },
    {
     "name": "stdout",
     "output_type": "stream",
     "text": [
      "Counts matrix shape: 5971 rows(cells), 33538 columns(genes)\n",
      "Preprocessing...\n"
     ]
    },
    {
     "name": "stderr",
     "output_type": "stream",
     "text": [
      "/cndd/junhao/anaconda3/envs/scanpy_scrublet/lib/python3.7/site-packages/scrublet/helper_functions.py:321: RuntimeWarning: divide by zero encountered in true_divide\n",
      "  w.setdiag(float(target_total) / tots_use)\n"
     ]
    },
    {
     "name": "stdout",
     "output_type": "stream",
     "text": [
      "Simulating doublets...\n",
      "Embedding transcriptomes using PCA...\n",
      "Calculating doublet scores...\n",
      "Automatically set threshold at doublet score = 0.23\n",
      "Detected doublet rate = 3.0%\n",
      "Estimated detectable doublet fraction = 42.5%\n",
      "Overall doublet rate:\n",
      "\tExpected   = 6.0%\n",
      "\tEstimated  = 7.1%\n",
      "Elapsed time: 15.2 seconds\n",
      "Detected doublet rate = 3.5%\n",
      "Estimated detectable doublet fraction = 45.4%\n",
      "Overall doublet rate:\n",
      "\tExpected   = 6.0%\n",
      "\tEstimated  = 7.6%\n",
      "Running UMAP...\n",
      "Done.\n"
     ]
    },
    {
     "name": "stderr",
     "output_type": "stream",
     "text": [
      "Variable names are not unique. To make them unique, call `.var_names_make_unique`.\n",
      "Variable names are not unique. To make them unique, call `.var_names_make_unique`.\n"
     ]
    },
    {
     "name": "stdout",
     "output_type": "stream",
     "text": [
      "Counts matrix shape: 6927 rows(cells), 33538 columns(genes)\n",
      "Preprocessing...\n"
     ]
    },
    {
     "name": "stderr",
     "output_type": "stream",
     "text": [
      "/cndd/junhao/anaconda3/envs/scanpy_scrublet/lib/python3.7/site-packages/scrublet/helper_functions.py:321: RuntimeWarning: divide by zero encountered in true_divide\n",
      "  w.setdiag(float(target_total) / tots_use)\n"
     ]
    },
    {
     "name": "stdout",
     "output_type": "stream",
     "text": [
      "Simulating doublets...\n",
      "Embedding transcriptomes using PCA...\n",
      "Calculating doublet scores...\n",
      "Automatically set threshold at doublet score = 0.19\n",
      "Detected doublet rate = 4.4%\n",
      "Estimated detectable doublet fraction = 45.7%\n",
      "Overall doublet rate:\n",
      "\tExpected   = 6.0%\n",
      "\tEstimated  = 9.7%\n",
      "Elapsed time: 15.6 seconds\n",
      "Detected doublet rate = 4.2%\n",
      "Estimated detectable doublet fraction = 44.6%\n",
      "Overall doublet rate:\n",
      "\tExpected   = 6.0%\n",
      "\tEstimated  = 9.4%\n",
      "Running UMAP...\n",
      "Done.\n"
     ]
    },
    {
     "name": "stderr",
     "output_type": "stream",
     "text": [
      "Variable names are not unique. To make them unique, call `.var_names_make_unique`.\n",
      "Variable names are not unique. To make them unique, call `.var_names_make_unique`.\n"
     ]
    },
    {
     "name": "stdout",
     "output_type": "stream",
     "text": [
      "Counts matrix shape: 5977 rows(cells), 33538 columns(genes)\n",
      "Preprocessing...\n"
     ]
    },
    {
     "name": "stderr",
     "output_type": "stream",
     "text": [
      "/cndd/junhao/anaconda3/envs/scanpy_scrublet/lib/python3.7/site-packages/scrublet/helper_functions.py:321: RuntimeWarning: divide by zero encountered in true_divide\n",
      "  w.setdiag(float(target_total) / tots_use)\n"
     ]
    },
    {
     "name": "stdout",
     "output_type": "stream",
     "text": [
      "Simulating doublets...\n",
      "Embedding transcriptomes using PCA...\n",
      "Calculating doublet scores...\n",
      "Automatically set threshold at doublet score = 0.29\n",
      "Detected doublet rate = 2.6%\n",
      "Estimated detectable doublet fraction = 38.0%\n",
      "Overall doublet rate:\n",
      "\tExpected   = 6.0%\n",
      "\tEstimated  = 6.8%\n",
      "Elapsed time: 16.1 seconds\n",
      "Detected doublet rate = 5.1%\n",
      "Estimated detectable doublet fraction = 50.5%\n",
      "Overall doublet rate:\n",
      "\tExpected   = 6.0%\n",
      "\tEstimated  = 10.0%\n",
      "Running UMAP...\n",
      "Done.\n"
     ]
    },
    {
     "name": "stderr",
     "output_type": "stream",
     "text": [
      "Variable names are not unique. To make them unique, call `.var_names_make_unique`.\n",
      "Variable names are not unique. To make them unique, call `.var_names_make_unique`.\n"
     ]
    },
    {
     "name": "stdout",
     "output_type": "stream",
     "text": [
      "Counts matrix shape: 5667 rows(cells), 33538 columns(genes)\n",
      "Preprocessing...\n"
     ]
    },
    {
     "name": "stderr",
     "output_type": "stream",
     "text": [
      "/cndd/junhao/anaconda3/envs/scanpy_scrublet/lib/python3.7/site-packages/scrublet/helper_functions.py:321: RuntimeWarning: divide by zero encountered in true_divide\n",
      "  w.setdiag(float(target_total) / tots_use)\n"
     ]
    },
    {
     "name": "stdout",
     "output_type": "stream",
     "text": [
      "Simulating doublets...\n",
      "Embedding transcriptomes using PCA...\n",
      "Calculating doublet scores...\n",
      "Automatically set threshold at doublet score = 0.28\n",
      "Detected doublet rate = 2.1%\n",
      "Estimated detectable doublet fraction = 31.3%\n",
      "Overall doublet rate:\n",
      "\tExpected   = 6.0%\n",
      "\tEstimated  = 6.8%\n",
      "Elapsed time: 14.2 seconds\n",
      "Detected doublet rate = 3.2%\n",
      "Estimated detectable doublet fraction = 40.0%\n",
      "Overall doublet rate:\n",
      "\tExpected   = 6.0%\n",
      "\tEstimated  = 8.0%\n",
      "Running UMAP...\n",
      "Done.\n"
     ]
    },
    {
     "name": "stderr",
     "output_type": "stream",
     "text": [
      "Variable names are not unique. To make them unique, call `.var_names_make_unique`.\n",
      "Variable names are not unique. To make them unique, call `.var_names_make_unique`.\n"
     ]
    },
    {
     "name": "stdout",
     "output_type": "stream",
     "text": [
      "Counts matrix shape: 5373 rows(cells), 33538 columns(genes)\n",
      "Preprocessing...\n"
     ]
    },
    {
     "name": "stderr",
     "output_type": "stream",
     "text": [
      "/cndd/junhao/anaconda3/envs/scanpy_scrublet/lib/python3.7/site-packages/scrublet/helper_functions.py:321: RuntimeWarning: divide by zero encountered in true_divide\n",
      "  w.setdiag(float(target_total) / tots_use)\n"
     ]
    },
    {
     "name": "stdout",
     "output_type": "stream",
     "text": [
      "Simulating doublets...\n",
      "Embedding transcriptomes using PCA...\n",
      "Calculating doublet scores...\n",
      "Automatically set threshold at doublet score = 0.40\n",
      "Detected doublet rate = 0.9%\n",
      "Estimated detectable doublet fraction = 24.8%\n",
      "Overall doublet rate:\n",
      "\tExpected   = 6.0%\n",
      "\tEstimated  = 3.7%\n",
      "Elapsed time: 14.5 seconds\n",
      "Detected doublet rate = 3.0%\n",
      "Estimated detectable doublet fraction = 41.0%\n",
      "Overall doublet rate:\n",
      "\tExpected   = 6.0%\n",
      "\tEstimated  = 7.4%\n",
      "Running UMAP...\n",
      "Done.\n"
     ]
    },
    {
     "name": "stderr",
     "output_type": "stream",
     "text": [
      "Variable names are not unique. To make them unique, call `.var_names_make_unique`.\n",
      "Variable names are not unique. To make them unique, call `.var_names_make_unique`.\n"
     ]
    },
    {
     "name": "stdout",
     "output_type": "stream",
     "text": [
      "Counts matrix shape: 7828 rows(cells), 33538 columns(genes)\n",
      "Preprocessing...\n"
     ]
    },
    {
     "name": "stderr",
     "output_type": "stream",
     "text": [
      "/cndd/junhao/anaconda3/envs/scanpy_scrublet/lib/python3.7/site-packages/scrublet/helper_functions.py:321: RuntimeWarning: divide by zero encountered in true_divide\n",
      "  w.setdiag(float(target_total) / tots_use)\n"
     ]
    },
    {
     "name": "stdout",
     "output_type": "stream",
     "text": [
      "Simulating doublets...\n",
      "Embedding transcriptomes using PCA...\n",
      "Calculating doublet scores...\n",
      "Automatically set threshold at doublet score = 0.34\n",
      "Detected doublet rate = 1.8%\n",
      "Estimated detectable doublet fraction = 28.9%\n",
      "Overall doublet rate:\n",
      "\tExpected   = 6.0%\n",
      "\tEstimated  = 6.1%\n",
      "Elapsed time: 21.1 seconds\n",
      "Detected doublet rate = 4.3%\n",
      "Estimated detectable doublet fraction = 47.5%\n",
      "Overall doublet rate:\n",
      "\tExpected   = 6.0%\n",
      "\tEstimated  = 9.0%\n",
      "Running UMAP...\n",
      "Done.\n"
     ]
    },
    {
     "name": "stderr",
     "output_type": "stream",
     "text": [
      "Variable names are not unique. To make them unique, call `.var_names_make_unique`.\n",
      "Variable names are not unique. To make them unique, call `.var_names_make_unique`.\n"
     ]
    },
    {
     "name": "stdout",
     "output_type": "stream",
     "text": [
      "Counts matrix shape: 6650 rows(cells), 33538 columns(genes)\n",
      "Preprocessing...\n"
     ]
    },
    {
     "name": "stderr",
     "output_type": "stream",
     "text": [
      "/cndd/junhao/anaconda3/envs/scanpy_scrublet/lib/python3.7/site-packages/scrublet/helper_functions.py:321: RuntimeWarning: divide by zero encountered in true_divide\n",
      "  w.setdiag(float(target_total) / tots_use)\n"
     ]
    },
    {
     "name": "stdout",
     "output_type": "stream",
     "text": [
      "Simulating doublets...\n",
      "Embedding transcriptomes using PCA...\n",
      "Calculating doublet scores...\n",
      "Automatically set threshold at doublet score = 0.23\n",
      "Detected doublet rate = 6.0%\n",
      "Estimated detectable doublet fraction = 37.8%\n",
      "Overall doublet rate:\n",
      "\tExpected   = 6.0%\n",
      "\tEstimated  = 15.8%\n",
      "Elapsed time: 7.7 seconds\n",
      "Detected doublet rate = 6.7%\n",
      "Estimated detectable doublet fraction = 39.9%\n",
      "Overall doublet rate:\n",
      "\tExpected   = 6.0%\n",
      "\tEstimated  = 16.8%\n",
      "Running UMAP...\n",
      "Done.\n"
     ]
    },
    {
     "name": "stderr",
     "output_type": "stream",
     "text": [
      "Variable names are not unique. To make them unique, call `.var_names_make_unique`.\n",
      "Variable names are not unique. To make them unique, call `.var_names_make_unique`.\n"
     ]
    },
    {
     "name": "stdout",
     "output_type": "stream",
     "text": [
      "Counts matrix shape: 6314 rows(cells), 33538 columns(genes)\n",
      "Preprocessing...\n"
     ]
    },
    {
     "name": "stderr",
     "output_type": "stream",
     "text": [
      "/cndd/junhao/anaconda3/envs/scanpy_scrublet/lib/python3.7/site-packages/scrublet/helper_functions.py:321: RuntimeWarning: divide by zero encountered in true_divide\n",
      "  w.setdiag(float(target_total) / tots_use)\n"
     ]
    },
    {
     "name": "stdout",
     "output_type": "stream",
     "text": [
      "Simulating doublets...\n",
      "Embedding transcriptomes using PCA...\n",
      "Calculating doublet scores...\n",
      "Automatically set threshold at doublet score = 0.22\n",
      "Detected doublet rate = 5.6%\n",
      "Estimated detectable doublet fraction = 30.5%\n",
      "Overall doublet rate:\n",
      "\tExpected   = 6.0%\n",
      "\tEstimated  = 18.4%\n",
      "Elapsed time: 7.1 seconds\n",
      "Detected doublet rate = 6.1%\n",
      "Estimated detectable doublet fraction = 31.8%\n",
      "Overall doublet rate:\n",
      "\tExpected   = 6.0%\n",
      "\tEstimated  = 19.3%\n",
      "Running UMAP...\n",
      "Done.\n"
     ]
    },
    {
     "name": "stderr",
     "output_type": "stream",
     "text": [
      "Variable names are not unique. To make them unique, call `.var_names_make_unique`.\n",
      "Variable names are not unique. To make them unique, call `.var_names_make_unique`.\n"
     ]
    },
    {
     "name": "stdout",
     "output_type": "stream",
     "text": [
      "Counts matrix shape: 4467 rows(cells), 33538 columns(genes)\n",
      "Preprocessing...\n"
     ]
    },
    {
     "name": "stderr",
     "output_type": "stream",
     "text": [
      "/cndd/junhao/anaconda3/envs/scanpy_scrublet/lib/python3.7/site-packages/scrublet/helper_functions.py:321: RuntimeWarning: divide by zero encountered in true_divide\n",
      "  w.setdiag(float(target_total) / tots_use)\n"
     ]
    },
    {
     "name": "stdout",
     "output_type": "stream",
     "text": [
      "Simulating doublets...\n",
      "Embedding transcriptomes using PCA...\n",
      "Calculating doublet scores...\n",
      "Automatically set threshold at doublet score = 0.57\n",
      "Detected doublet rate = 0.1%\n",
      "Estimated detectable doublet fraction = 1.1%\n",
      "Overall doublet rate:\n",
      "\tExpected   = 6.0%\n",
      "\tEstimated  = 8.5%\n",
      "Elapsed time: 7.9 seconds\n",
      "Detected doublet rate = 3.7%\n",
      "Estimated detectable doublet fraction = 31.1%\n",
      "Overall doublet rate:\n",
      "\tExpected   = 6.0%\n",
      "\tEstimated  = 11.9%\n",
      "Running UMAP...\n",
      "Done.\n"
     ]
    },
    {
     "name": "stderr",
     "output_type": "stream",
     "text": [
      "Variable names are not unique. To make them unique, call `.var_names_make_unique`.\n",
      "Variable names are not unique. To make them unique, call `.var_names_make_unique`.\n"
     ]
    },
    {
     "name": "stdout",
     "output_type": "stream",
     "text": [
      "Counts matrix shape: 7867 rows(cells), 33538 columns(genes)\n",
      "Preprocessing...\n"
     ]
    },
    {
     "name": "stderr",
     "output_type": "stream",
     "text": [
      "/cndd/junhao/anaconda3/envs/scanpy_scrublet/lib/python3.7/site-packages/scrublet/helper_functions.py:321: RuntimeWarning: divide by zero encountered in true_divide\n",
      "  w.setdiag(float(target_total) / tots_use)\n"
     ]
    },
    {
     "name": "stdout",
     "output_type": "stream",
     "text": [
      "Simulating doublets...\n",
      "Embedding transcriptomes using PCA...\n",
      "Calculating doublet scores...\n",
      "Automatically set threshold at doublet score = 0.23\n",
      "Detected doublet rate = 4.0%\n",
      "Estimated detectable doublet fraction = 38.5%\n",
      "Overall doublet rate:\n",
      "\tExpected   = 6.0%\n",
      "\tEstimated  = 10.3%\n",
      "Elapsed time: 9.9 seconds\n",
      "Detected doublet rate = 4.6%\n",
      "Estimated detectable doublet fraction = 41.3%\n",
      "Overall doublet rate:\n",
      "\tExpected   = 6.0%\n",
      "\tEstimated  = 11.2%\n",
      "Running UMAP...\n",
      "Done.\n"
     ]
    },
    {
     "name": "stderr",
     "output_type": "stream",
     "text": [
      "Variable names are not unique. To make them unique, call `.var_names_make_unique`.\n",
      "Variable names are not unique. To make them unique, call `.var_names_make_unique`.\n"
     ]
    },
    {
     "name": "stdout",
     "output_type": "stream",
     "text": [
      "Counts matrix shape: 1524 rows(cells), 33538 columns(genes)\n",
      "Preprocessing...\n"
     ]
    },
    {
     "name": "stderr",
     "output_type": "stream",
     "text": [
      "/cndd/junhao/anaconda3/envs/scanpy_scrublet/lib/python3.7/site-packages/scrublet/helper_functions.py:321: RuntimeWarning: divide by zero encountered in true_divide\n",
      "  w.setdiag(float(target_total) / tots_use)\n"
     ]
    },
    {
     "name": "stdout",
     "output_type": "stream",
     "text": [
      "Simulating doublets...\n",
      "Embedding transcriptomes using PCA...\n",
      "Calculating doublet scores...\n",
      "Automatically set threshold at doublet score = 0.43\n",
      "Detected doublet rate = 0.2%\n",
      "Estimated detectable doublet fraction = 4.9%\n",
      "Overall doublet rate:\n",
      "\tExpected   = 6.0%\n",
      "\tEstimated  = 4.0%\n",
      "Elapsed time: 2.9 seconds\n",
      "Detected doublet rate = 1.5%\n",
      "Estimated detectable doublet fraction = 19.9%\n",
      "Overall doublet rate:\n",
      "\tExpected   = 6.0%\n",
      "\tEstimated  = 7.6%\n",
      "Running UMAP...\n",
      "Done.\n"
     ]
    },
    {
     "name": "stderr",
     "output_type": "stream",
     "text": [
      "Variable names are not unique. To make them unique, call `.var_names_make_unique`.\n",
      "Variable names are not unique. To make them unique, call `.var_names_make_unique`.\n"
     ]
    },
    {
     "name": "stdout",
     "output_type": "stream",
     "text": [
      "Counts matrix shape: 8178 rows(cells), 33538 columns(genes)\n",
      "Preprocessing...\n"
     ]
    },
    {
     "name": "stderr",
     "output_type": "stream",
     "text": [
      "/cndd/junhao/anaconda3/envs/scanpy_scrublet/lib/python3.7/site-packages/scrublet/helper_functions.py:321: RuntimeWarning: divide by zero encountered in true_divide\n",
      "  w.setdiag(float(target_total) / tots_use)\n"
     ]
    },
    {
     "name": "stdout",
     "output_type": "stream",
     "text": [
      "Simulating doublets...\n",
      "Embedding transcriptomes using PCA...\n",
      "Calculating doublet scores...\n",
      "Automatically set threshold at doublet score = 0.23\n",
      "Detected doublet rate = 3.9%\n",
      "Estimated detectable doublet fraction = 37.3%\n",
      "Overall doublet rate:\n",
      "\tExpected   = 6.0%\n",
      "\tEstimated  = 10.4%\n",
      "Elapsed time: 14.0 seconds\n",
      "Detected doublet rate = 4.5%\n",
      "Estimated detectable doublet fraction = 41.2%\n",
      "Overall doublet rate:\n",
      "\tExpected   = 6.0%\n",
      "\tEstimated  = 10.8%\n",
      "Running UMAP...\n",
      "Done.\n"
     ]
    },
    {
     "name": "stderr",
     "output_type": "stream",
     "text": [
      "Variable names are not unique. To make them unique, call `.var_names_make_unique`.\n",
      "Variable names are not unique. To make them unique, call `.var_names_make_unique`.\n"
     ]
    },
    {
     "name": "stdout",
     "output_type": "stream",
     "text": [
      "Counts matrix shape: 5740 rows(cells), 33538 columns(genes)\n",
      "Preprocessing...\n"
     ]
    },
    {
     "name": "stderr",
     "output_type": "stream",
     "text": [
      "/cndd/junhao/anaconda3/envs/scanpy_scrublet/lib/python3.7/site-packages/scrublet/helper_functions.py:321: RuntimeWarning: divide by zero encountered in true_divide\n",
      "  w.setdiag(float(target_total) / tots_use)\n"
     ]
    },
    {
     "name": "stdout",
     "output_type": "stream",
     "text": [
      "Simulating doublets...\n",
      "Embedding transcriptomes using PCA...\n",
      "Calculating doublet scores...\n",
      "Automatically set threshold at doublet score = 0.61\n",
      "Detected doublet rate = 0.2%\n",
      "Estimated detectable doublet fraction = 2.7%\n",
      "Overall doublet rate:\n",
      "\tExpected   = 6.0%\n",
      "\tEstimated  = 7.1%\n",
      "Elapsed time: 11.8 seconds\n",
      "Detected doublet rate = 3.1%\n",
      "Estimated detectable doublet fraction = 39.5%\n",
      "Overall doublet rate:\n",
      "\tExpected   = 6.0%\n",
      "\tEstimated  = 7.8%\n",
      "Running UMAP...\n",
      "Done.\n"
     ]
    },
    {
     "name": "stderr",
     "output_type": "stream",
     "text": [
      "Variable names are not unique. To make them unique, call `.var_names_make_unique`.\n",
      "Variable names are not unique. To make them unique, call `.var_names_make_unique`.\n"
     ]
    },
    {
     "name": "stdout",
     "output_type": "stream",
     "text": [
      "Counts matrix shape: 5627 rows(cells), 33538 columns(genes)\n",
      "Preprocessing...\n"
     ]
    },
    {
     "name": "stderr",
     "output_type": "stream",
     "text": [
      "/cndd/junhao/anaconda3/envs/scanpy_scrublet/lib/python3.7/site-packages/scrublet/helper_functions.py:321: RuntimeWarning: divide by zero encountered in true_divide\n",
      "  w.setdiag(float(target_total) / tots_use)\n"
     ]
    },
    {
     "name": "stdout",
     "output_type": "stream",
     "text": [
      "Simulating doublets...\n",
      "Embedding transcriptomes using PCA...\n",
      "Calculating doublet scores...\n",
      "Automatically set threshold at doublet score = 0.61\n",
      "Detected doublet rate = 0.1%\n",
      "Estimated detectable doublet fraction = 4.1%\n",
      "Overall doublet rate:\n",
      "\tExpected   = 6.0%\n",
      "\tEstimated  = 3.0%\n",
      "Elapsed time: 9.6 seconds\n",
      "Detected doublet rate = 5.3%\n",
      "Estimated detectable doublet fraction = 42.7%\n",
      "Overall doublet rate:\n",
      "\tExpected   = 6.0%\n",
      "\tEstimated  = 12.5%\n",
      "Running UMAP...\n",
      "Done.\n"
     ]
    },
    {
     "name": "stderr",
     "output_type": "stream",
     "text": [
      "Variable names are not unique. To make them unique, call `.var_names_make_unique`.\n",
      "Variable names are not unique. To make them unique, call `.var_names_make_unique`.\n"
     ]
    },
    {
     "name": "stdout",
     "output_type": "stream",
     "text": [
      "Counts matrix shape: 5269 rows(cells), 33538 columns(genes)\n",
      "Preprocessing...\n"
     ]
    },
    {
     "name": "stderr",
     "output_type": "stream",
     "text": [
      "/cndd/junhao/anaconda3/envs/scanpy_scrublet/lib/python3.7/site-packages/scrublet/helper_functions.py:321: RuntimeWarning: divide by zero encountered in true_divide\n",
      "  w.setdiag(float(target_total) / tots_use)\n"
     ]
    },
    {
     "name": "stdout",
     "output_type": "stream",
     "text": [
      "Simulating doublets...\n",
      "Embedding transcriptomes using PCA...\n",
      "Calculating doublet scores...\n",
      "Automatically set threshold at doublet score = 0.58\n",
      "Detected doublet rate = 0.2%\n",
      "Estimated detectable doublet fraction = 7.8%\n",
      "Overall doublet rate:\n",
      "\tExpected   = 6.0%\n",
      "\tEstimated  = 2.7%\n",
      "Elapsed time: 11.1 seconds\n",
      "Detected doublet rate = 2.8%\n",
      "Estimated detectable doublet fraction = 36.5%\n",
      "Overall doublet rate:\n",
      "\tExpected   = 6.0%\n",
      "\tEstimated  = 7.6%\n",
      "Running UMAP...\n",
      "Done.\n"
     ]
    },
    {
     "name": "stderr",
     "output_type": "stream",
     "text": [
      "Variable names are not unique. To make them unique, call `.var_names_make_unique`.\n",
      "Variable names are not unique. To make them unique, call `.var_names_make_unique`.\n"
     ]
    },
    {
     "name": "stdout",
     "output_type": "stream",
     "text": [
      "Counts matrix shape: 6586 rows(cells), 33538 columns(genes)\n",
      "Preprocessing...\n"
     ]
    },
    {
     "name": "stderr",
     "output_type": "stream",
     "text": [
      "/cndd/junhao/anaconda3/envs/scanpy_scrublet/lib/python3.7/site-packages/scrublet/helper_functions.py:321: RuntimeWarning: divide by zero encountered in true_divide\n",
      "  w.setdiag(float(target_total) / tots_use)\n"
     ]
    },
    {
     "name": "stdout",
     "output_type": "stream",
     "text": [
      "Simulating doublets...\n",
      "Embedding transcriptomes using PCA...\n",
      "Calculating doublet scores...\n",
      "Automatically set threshold at doublet score = 0.27\n",
      "Detected doublet rate = 2.1%\n",
      "Estimated detectable doublet fraction = 26.9%\n",
      "Overall doublet rate:\n",
      "\tExpected   = 6.0%\n",
      "\tEstimated  = 7.8%\n",
      "Elapsed time: 12.9 seconds\n",
      "Detected doublet rate = 3.1%\n",
      "Estimated detectable doublet fraction = 35.9%\n",
      "Overall doublet rate:\n",
      "\tExpected   = 6.0%\n",
      "\tEstimated  = 8.7%\n",
      "Running UMAP...\n",
      "Done.\n"
     ]
    },
    {
     "name": "stderr",
     "output_type": "stream",
     "text": [
      "Variable names are not unique. To make them unique, call `.var_names_make_unique`.\n",
      "Variable names are not unique. To make them unique, call `.var_names_make_unique`.\n"
     ]
    },
    {
     "name": "stdout",
     "output_type": "stream",
     "text": [
      "Counts matrix shape: 6441 rows(cells), 33538 columns(genes)\n",
      "Preprocessing...\n"
     ]
    },
    {
     "name": "stderr",
     "output_type": "stream",
     "text": [
      "/cndd/junhao/anaconda3/envs/scanpy_scrublet/lib/python3.7/site-packages/scrublet/helper_functions.py:321: RuntimeWarning: divide by zero encountered in true_divide\n",
      "  w.setdiag(float(target_total) / tots_use)\n"
     ]
    },
    {
     "name": "stdout",
     "output_type": "stream",
     "text": [
      "Simulating doublets...\n",
      "Embedding transcriptomes using PCA...\n",
      "Calculating doublet scores...\n",
      "Automatically set threshold at doublet score = 0.63\n",
      "Detected doublet rate = 0.1%\n",
      "Estimated detectable doublet fraction = 2.6%\n",
      "Overall doublet rate:\n",
      "\tExpected   = 6.0%\n",
      "\tEstimated  = 3.0%\n",
      "Elapsed time: 14.1 seconds\n",
      "Detected doublet rate = 2.7%\n",
      "Estimated detectable doublet fraction = 29.8%\n",
      "Overall doublet rate:\n",
      "\tExpected   = 6.0%\n",
      "\tEstimated  = 8.9%\n",
      "Running UMAP...\n",
      "Done.\n"
     ]
    },
    {
     "name": "stderr",
     "output_type": "stream",
     "text": [
      "Variable names are not unique. To make them unique, call `.var_names_make_unique`.\n",
      "Variable names are not unique. To make them unique, call `.var_names_make_unique`.\n"
     ]
    },
    {
     "name": "stdout",
     "output_type": "stream",
     "text": [
      "Counts matrix shape: 5042 rows(cells), 33538 columns(genes)\n",
      "Preprocessing...\n"
     ]
    },
    {
     "name": "stderr",
     "output_type": "stream",
     "text": [
      "/cndd/junhao/anaconda3/envs/scanpy_scrublet/lib/python3.7/site-packages/scrublet/helper_functions.py:321: RuntimeWarning: divide by zero encountered in true_divide\n",
      "  w.setdiag(float(target_total) / tots_use)\n"
     ]
    },
    {
     "name": "stdout",
     "output_type": "stream",
     "text": [
      "Simulating doublets...\n",
      "Embedding transcriptomes using PCA...\n",
      "Calculating doublet scores...\n",
      "Automatically set threshold at doublet score = 0.59\n",
      "Detected doublet rate = 0.2%\n",
      "Estimated detectable doublet fraction = 5.7%\n",
      "Overall doublet rate:\n",
      "\tExpected   = 6.0%\n",
      "\tEstimated  = 2.8%\n",
      "Elapsed time: 12.4 seconds\n",
      "Detected doublet rate = 6.9%\n",
      "Estimated detectable doublet fraction = 42.5%\n",
      "Overall doublet rate:\n",
      "\tExpected   = 6.0%\n",
      "\tEstimated  = 16.2%\n",
      "Running UMAP...\n",
      "Done.\n"
     ]
    },
    {
     "name": "stderr",
     "output_type": "stream",
     "text": [
      "Variable names are not unique. To make them unique, call `.var_names_make_unique`.\n",
      "Variable names are not unique. To make them unique, call `.var_names_make_unique`.\n"
     ]
    },
    {
     "name": "stdout",
     "output_type": "stream",
     "text": [
      "Counts matrix shape: 5742 rows(cells), 33538 columns(genes)\n",
      "Preprocessing...\n"
     ]
    },
    {
     "name": "stderr",
     "output_type": "stream",
     "text": [
      "/cndd/junhao/anaconda3/envs/scanpy_scrublet/lib/python3.7/site-packages/scrublet/helper_functions.py:321: RuntimeWarning: divide by zero encountered in true_divide\n",
      "  w.setdiag(float(target_total) / tots_use)\n"
     ]
    },
    {
     "name": "stdout",
     "output_type": "stream",
     "text": [
      "Simulating doublets...\n",
      "Embedding transcriptomes using PCA...\n",
      "Calculating doublet scores...\n",
      "Automatically set threshold at doublet score = 0.25\n",
      "Detected doublet rate = 2.9%\n",
      "Estimated detectable doublet fraction = 38.0%\n",
      "Overall doublet rate:\n",
      "\tExpected   = 6.0%\n",
      "\tEstimated  = 7.6%\n",
      "Elapsed time: 13.4 seconds\n",
      "Detected doublet rate = 3.3%\n",
      "Estimated detectable doublet fraction = 41.5%\n",
      "Overall doublet rate:\n",
      "\tExpected   = 6.0%\n",
      "\tEstimated  = 7.9%\n",
      "Running UMAP...\n",
      "Done.\n"
     ]
    },
    {
     "name": "stderr",
     "output_type": "stream",
     "text": [
      "Variable names are not unique. To make them unique, call `.var_names_make_unique`.\n",
      "Variable names are not unique. To make them unique, call `.var_names_make_unique`.\n"
     ]
    },
    {
     "name": "stdout",
     "output_type": "stream",
     "text": [
      "Counts matrix shape: 7556 rows(cells), 33538 columns(genes)\n",
      "Preprocessing...\n"
     ]
    },
    {
     "name": "stderr",
     "output_type": "stream",
     "text": [
      "/cndd/junhao/anaconda3/envs/scanpy_scrublet/lib/python3.7/site-packages/scrublet/helper_functions.py:321: RuntimeWarning: divide by zero encountered in true_divide\n",
      "  w.setdiag(float(target_total) / tots_use)\n"
     ]
    },
    {
     "name": "stdout",
     "output_type": "stream",
     "text": [
      "Simulating doublets...\n",
      "Embedding transcriptomes using PCA...\n",
      "Calculating doublet scores...\n",
      "Automatically set threshold at doublet score = 0.25\n",
      "Detected doublet rate = 2.9%\n",
      "Estimated detectable doublet fraction = 39.7%\n",
      "Overall doublet rate:\n",
      "\tExpected   = 6.0%\n",
      "\tEstimated  = 7.3%\n",
      "Elapsed time: 17.4 seconds\n",
      "Detected doublet rate = 3.3%\n",
      "Estimated detectable doublet fraction = 43.7%\n",
      "Overall doublet rate:\n",
      "\tExpected   = 6.0%\n",
      "\tEstimated  = 7.6%\n",
      "Running UMAP...\n",
      "Done.\n"
     ]
    },
    {
     "name": "stderr",
     "output_type": "stream",
     "text": [
      "Variable names are not unique. To make them unique, call `.var_names_make_unique`.\n",
      "Variable names are not unique. To make them unique, call `.var_names_make_unique`.\n"
     ]
    },
    {
     "name": "stdout",
     "output_type": "stream",
     "text": [
      "Counts matrix shape: 7956 rows(cells), 33538 columns(genes)\n",
      "Preprocessing...\n"
     ]
    },
    {
     "name": "stderr",
     "output_type": "stream",
     "text": [
      "/cndd/junhao/anaconda3/envs/scanpy_scrublet/lib/python3.7/site-packages/scrublet/helper_functions.py:321: RuntimeWarning: divide by zero encountered in true_divide\n",
      "  w.setdiag(float(target_total) / tots_use)\n"
     ]
    },
    {
     "name": "stdout",
     "output_type": "stream",
     "text": [
      "Simulating doublets...\n",
      "Embedding transcriptomes using PCA...\n",
      "Calculating doublet scores...\n",
      "Automatically set threshold at doublet score = 0.27\n",
      "Detected doublet rate = 2.7%\n",
      "Estimated detectable doublet fraction = 38.1%\n",
      "Overall doublet rate:\n",
      "\tExpected   = 6.0%\n",
      "\tEstimated  = 7.2%\n",
      "Elapsed time: 19.9 seconds\n",
      "Detected doublet rate = 4.0%\n",
      "Estimated detectable doublet fraction = 47.3%\n",
      "Overall doublet rate:\n",
      "\tExpected   = 6.0%\n",
      "\tEstimated  = 8.4%\n",
      "Running UMAP...\n",
      "Done.\n"
     ]
    },
    {
     "name": "stderr",
     "output_type": "stream",
     "text": [
      "Variable names are not unique. To make them unique, call `.var_names_make_unique`.\n",
      "Variable names are not unique. To make them unique, call `.var_names_make_unique`.\n"
     ]
    },
    {
     "name": "stdout",
     "output_type": "stream",
     "text": [
      "Counts matrix shape: 6427 rows(cells), 33538 columns(genes)\n",
      "Preprocessing...\n"
     ]
    },
    {
     "name": "stderr",
     "output_type": "stream",
     "text": [
      "/cndd/junhao/anaconda3/envs/scanpy_scrublet/lib/python3.7/site-packages/scrublet/helper_functions.py:321: RuntimeWarning: divide by zero encountered in true_divide\n",
      "  w.setdiag(float(target_total) / tots_use)\n"
     ]
    },
    {
     "name": "stdout",
     "output_type": "stream",
     "text": [
      "Simulating doublets...\n",
      "Embedding transcriptomes using PCA...\n",
      "Calculating doublet scores...\n",
      "Automatically set threshold at doublet score = 0.43\n",
      "Detected doublet rate = 0.6%\n",
      "Estimated detectable doublet fraction = 20.5%\n",
      "Overall doublet rate:\n",
      "\tExpected   = 6.0%\n",
      "\tEstimated  = 2.9%\n",
      "Elapsed time: 15.4 seconds\n",
      "Detected doublet rate = 2.6%\n",
      "Estimated detectable doublet fraction = 38.6%\n",
      "Overall doublet rate:\n",
      "\tExpected   = 6.0%\n",
      "\tEstimated  = 6.7%\n",
      "Running UMAP...\n",
      "Done.\n"
     ]
    },
    {
     "name": "stderr",
     "output_type": "stream",
     "text": [
      "Variable names are not unique. To make them unique, call `.var_names_make_unique`.\n",
      "Variable names are not unique. To make them unique, call `.var_names_make_unique`.\n"
     ]
    },
    {
     "name": "stdout",
     "output_type": "stream",
     "text": [
      "Counts matrix shape: 5548 rows(cells), 33538 columns(genes)\n",
      "Preprocessing...\n"
     ]
    },
    {
     "name": "stderr",
     "output_type": "stream",
     "text": [
      "/cndd/junhao/anaconda3/envs/scanpy_scrublet/lib/python3.7/site-packages/scrublet/helper_functions.py:321: RuntimeWarning: divide by zero encountered in true_divide\n",
      "  w.setdiag(float(target_total) / tots_use)\n"
     ]
    },
    {
     "name": "stdout",
     "output_type": "stream",
     "text": [
      "Simulating doublets...\n",
      "Embedding transcriptomes using PCA...\n",
      "Calculating doublet scores...\n",
      "Automatically set threshold at doublet score = 0.50\n",
      "Detected doublet rate = 0.1%\n",
      "Estimated detectable doublet fraction = 1.1%\n",
      "Overall doublet rate:\n",
      "\tExpected   = 6.0%\n",
      "\tEstimated  = 8.3%\n",
      "Elapsed time: 9.0 seconds\n",
      "Detected doublet rate = 11.4%\n",
      "Estimated detectable doublet fraction = 33.1%\n",
      "Overall doublet rate:\n",
      "\tExpected   = 6.0%\n",
      "\tEstimated  = 34.3%\n",
      "Running UMAP...\n",
      "Done.\n"
     ]
    },
    {
     "name": "stderr",
     "output_type": "stream",
     "text": [
      "Variable names are not unique. To make them unique, call `.var_names_make_unique`.\n",
      "Variable names are not unique. To make them unique, call `.var_names_make_unique`.\n"
     ]
    },
    {
     "name": "stdout",
     "output_type": "stream",
     "text": [
      "Counts matrix shape: 7673 rows(cells), 33538 columns(genes)\n",
      "Preprocessing...\n"
     ]
    },
    {
     "name": "stderr",
     "output_type": "stream",
     "text": [
      "/cndd/junhao/anaconda3/envs/scanpy_scrublet/lib/python3.7/site-packages/scrublet/helper_functions.py:321: RuntimeWarning: divide by zero encountered in true_divide\n",
      "  w.setdiag(float(target_total) / tots_use)\n"
     ]
    },
    {
     "name": "stdout",
     "output_type": "stream",
     "text": [
      "Simulating doublets...\n",
      "Embedding transcriptomes using PCA...\n",
      "Calculating doublet scores...\n",
      "Automatically set threshold at doublet score = 0.25\n",
      "Detected doublet rate = 2.8%\n",
      "Estimated detectable doublet fraction = 40.5%\n",
      "Overall doublet rate:\n",
      "\tExpected   = 6.0%\n",
      "\tEstimated  = 6.9%\n",
      "Elapsed time: 14.9 seconds\n",
      "Detected doublet rate = 3.6%\n",
      "Estimated detectable doublet fraction = 45.2%\n",
      "Overall doublet rate:\n",
      "\tExpected   = 6.0%\n",
      "\tEstimated  = 8.0%\n",
      "Running UMAP...\n",
      "Done.\n"
     ]
    },
    {
     "name": "stderr",
     "output_type": "stream",
     "text": [
      "Variable names are not unique. To make them unique, call `.var_names_make_unique`.\n",
      "Variable names are not unique. To make them unique, call `.var_names_make_unique`.\n"
     ]
    },
    {
     "name": "stdout",
     "output_type": "stream",
     "text": [
      "Counts matrix shape: 7856 rows(cells), 33538 columns(genes)\n",
      "Preprocessing...\n"
     ]
    },
    {
     "name": "stderr",
     "output_type": "stream",
     "text": [
      "/cndd/junhao/anaconda3/envs/scanpy_scrublet/lib/python3.7/site-packages/scrublet/helper_functions.py:321: RuntimeWarning: divide by zero encountered in true_divide\n",
      "  w.setdiag(float(target_total) / tots_use)\n"
     ]
    },
    {
     "name": "stdout",
     "output_type": "stream",
     "text": [
      "Simulating doublets...\n",
      "Embedding transcriptomes using PCA...\n",
      "Calculating doublet scores...\n",
      "Automatically set threshold at doublet score = 0.20\n",
      "Detected doublet rate = 5.1%\n",
      "Estimated detectable doublet fraction = 44.4%\n",
      "Overall doublet rate:\n",
      "\tExpected   = 6.0%\n",
      "\tEstimated  = 11.5%\n",
      "Elapsed time: 14.2 seconds\n",
      "Detected doublet rate = 5.1%\n",
      "Estimated detectable doublet fraction = 44.4%\n",
      "Overall doublet rate:\n",
      "\tExpected   = 6.0%\n",
      "\tEstimated  = 11.5%\n",
      "Running UMAP...\n",
      "Done.\n"
     ]
    },
    {
     "name": "stderr",
     "output_type": "stream",
     "text": [
      "Variable names are not unique. To make them unique, call `.var_names_make_unique`.\n",
      "Variable names are not unique. To make them unique, call `.var_names_make_unique`.\n"
     ]
    },
    {
     "name": "stdout",
     "output_type": "stream",
     "text": [
      "Counts matrix shape: 3945 rows(cells), 33538 columns(genes)\n",
      "Preprocessing...\n"
     ]
    },
    {
     "name": "stderr",
     "output_type": "stream",
     "text": [
      "/cndd/junhao/anaconda3/envs/scanpy_scrublet/lib/python3.7/site-packages/scrublet/helper_functions.py:321: RuntimeWarning: divide by zero encountered in true_divide\n",
      "  w.setdiag(float(target_total) / tots_use)\n"
     ]
    },
    {
     "name": "stdout",
     "output_type": "stream",
     "text": [
      "Simulating doublets...\n",
      "Embedding transcriptomes using PCA...\n",
      "Calculating doublet scores...\n",
      "Automatically set threshold at doublet score = 0.56\n",
      "Detected doublet rate = 0.3%\n",
      "Estimated detectable doublet fraction = 5.0%\n",
      "Overall doublet rate:\n",
      "\tExpected   = 6.0%\n",
      "\tEstimated  = 6.1%\n",
      "Elapsed time: 6.7 seconds\n",
      "Detected doublet rate = 2.9%\n",
      "Estimated detectable doublet fraction = 28.6%\n",
      "Overall doublet rate:\n",
      "\tExpected   = 6.0%\n",
      "\tEstimated  = 10.2%\n",
      "Running UMAP...\n",
      "Done.\n"
     ]
    },
    {
     "name": "stderr",
     "output_type": "stream",
     "text": [
      "Variable names are not unique. To make them unique, call `.var_names_make_unique`.\n",
      "Variable names are not unique. To make them unique, call `.var_names_make_unique`.\n"
     ]
    },
    {
     "name": "stdout",
     "output_type": "stream",
     "text": [
      "Counts matrix shape: 7623 rows(cells), 33538 columns(genes)\n",
      "Preprocessing...\n"
     ]
    },
    {
     "name": "stderr",
     "output_type": "stream",
     "text": [
      "/cndd/junhao/anaconda3/envs/scanpy_scrublet/lib/python3.7/site-packages/scrublet/helper_functions.py:321: RuntimeWarning: divide by zero encountered in true_divide\n",
      "  w.setdiag(float(target_total) / tots_use)\n"
     ]
    },
    {
     "name": "stdout",
     "output_type": "stream",
     "text": [
      "Simulating doublets...\n",
      "Embedding transcriptomes using PCA...\n",
      "Calculating doublet scores...\n",
      "Automatically set threshold at doublet score = 0.22\n",
      "Detected doublet rate = 4.4%\n",
      "Estimated detectable doublet fraction = 41.8%\n",
      "Overall doublet rate:\n",
      "\tExpected   = 6.0%\n",
      "\tEstimated  = 10.5%\n",
      "Elapsed time: 11.5 seconds\n",
      "Detected doublet rate = 4.8%\n",
      "Estimated detectable doublet fraction = 44.1%\n",
      "Overall doublet rate:\n",
      "\tExpected   = 6.0%\n",
      "\tEstimated  = 10.9%\n",
      "Running UMAP...\n",
      "Done.\n"
     ]
    },
    {
     "name": "stderr",
     "output_type": "stream",
     "text": [
      "Variable names are not unique. To make them unique, call `.var_names_make_unique`.\n",
      "Variable names are not unique. To make them unique, call `.var_names_make_unique`.\n"
     ]
    },
    {
     "name": "stdout",
     "output_type": "stream",
     "text": [
      "Counts matrix shape: 3119 rows(cells), 33538 columns(genes)\n",
      "Preprocessing...\n"
     ]
    },
    {
     "name": "stderr",
     "output_type": "stream",
     "text": [
      "/cndd/junhao/anaconda3/envs/scanpy_scrublet/lib/python3.7/site-packages/scrublet/helper_functions.py:321: RuntimeWarning: divide by zero encountered in true_divide\n",
      "  w.setdiag(float(target_total) / tots_use)\n"
     ]
    },
    {
     "name": "stdout",
     "output_type": "stream",
     "text": [
      "Simulating doublets...\n",
      "Embedding transcriptomes using PCA...\n",
      "Calculating doublet scores...\n",
      "Automatically set threshold at doublet score = 0.50\n",
      "Detected doublet rate = 0.0%\n",
      "Estimated detectable doublet fraction = 11.8%\n",
      "Overall doublet rate:\n",
      "\tExpected   = 6.0%\n",
      "\tEstimated  = 0.3%\n",
      "Elapsed time: 6.1 seconds\n",
      "Detected doublet rate = 1.8%\n",
      "Estimated detectable doublet fraction = 26.2%\n",
      "Overall doublet rate:\n",
      "\tExpected   = 6.0%\n",
      "\tEstimated  = 7.0%\n",
      "Running UMAP...\n",
      "Done.\n"
     ]
    },
    {
     "name": "stderr",
     "output_type": "stream",
     "text": [
      "Variable names are not unique. To make them unique, call `.var_names_make_unique`.\n",
      "Variable names are not unique. To make them unique, call `.var_names_make_unique`.\n"
     ]
    },
    {
     "name": "stdout",
     "output_type": "stream",
     "text": [
      "Counts matrix shape: 6589 rows(cells), 33538 columns(genes)\n",
      "Preprocessing...\n"
     ]
    },
    {
     "name": "stderr",
     "output_type": "stream",
     "text": [
      "/cndd/junhao/anaconda3/envs/scanpy_scrublet/lib/python3.7/site-packages/scrublet/helper_functions.py:321: RuntimeWarning: divide by zero encountered in true_divide\n",
      "  w.setdiag(float(target_total) / tots_use)\n"
     ]
    },
    {
     "name": "stdout",
     "output_type": "stream",
     "text": [
      "Simulating doublets...\n",
      "Embedding transcriptomes using PCA...\n",
      "Calculating doublet scores...\n",
      "Automatically set threshold at doublet score = 0.25\n",
      "Detected doublet rate = 2.2%\n",
      "Estimated detectable doublet fraction = 39.8%\n",
      "Overall doublet rate:\n",
      "\tExpected   = 6.0%\n",
      "\tEstimated  = 5.5%\n",
      "Elapsed time: 14.4 seconds\n",
      "Detected doublet rate = 2.9%\n",
      "Estimated detectable doublet fraction = 45.6%\n",
      "Overall doublet rate:\n",
      "\tExpected   = 6.0%\n",
      "\tEstimated  = 6.3%\n",
      "Running UMAP...\n",
      "Done.\n"
     ]
    }
   ],
   "source": [
    "input_dir = '/cndd2/junhao/ALS_FTD_singleCell/run_cellBender_on_raw_snRNA/'\n",
    "\n",
    "sample_name = [\n",
    "\"MCX_ALS_110\",\n",
    "\"MCX_ALS_111\",\n",
    "\"MCX_ALS_113\",\n",
    "\"MCX_ALS_332\",\n",
    "\"MCX_ALS_388\",\n",
    "\"MCX_ALS_52\",\n",
    "\"MCX_Control_1069\",\n",
    "\"MCX_Control_902\",\n",
    "\"MCX_Control_904\",\n",
    "\"MCX_Control_906\",\n",
    "\"MCX_Control_91\",\n",
    "\"MCX_Control_945\",\n",
    "\"MCX_FTD_36\",\n",
    "\"MCX_FTD_54\",\n",
    "\"MCX_FTD_55\",\n",
    "\"MCX_FTD_61\",\n",
    "\"MCX_FTD_674\",\n",
    "\"MCX_FTD_908\",\n",
    "\"mFCX_ALS_110\",\n",
    "\"mFCX_ALS_111\",\n",
    "\"mFCX_ALS_113\",\n",
    "\"mFCX_ALS_332\",\n",
    "\"mFCX_ALS_388\",\n",
    "\"mFCX_ALS_52\",\n",
    "\"mFCX_Control_1069\",\n",
    "\"mFCX_Control_902\",\n",
    "\"mFCX_Control_904\",\n",
    "\"mFCX_Control_906\",\n",
    "\"mFCX_Control_91\",\n",
    "\"mFCX_Control_945\",\n",
    "\"mFCX_FTD_36\",\n",
    "# \"mFCX_FTD_54\", # removed because cellBender failed to create h5 file (no cells left)\n",
    "\"mFCX_FTD_55\",\n",
    "\"mFCX_FTD_61\",\n",
    "\"mFCX_FTD_674\",\n",
    "\"mFCX_FTD_908\",\n",
    "]\n",
    "\n",
    "\n",
    "for selected_sample in sample_name:\n",
    "    \n",
    "    adata = sc.read_10x_h5(input_dir + selected_sample + '_cellBender_corrected_filtered.h5')\n",
    "    adata.var_names_make_unique()\n",
    "    \n",
    "    counts_matrix = adata.X.tocsc()\n",
    "    genes = adata.var_names.values\n",
    "    barcode = adata.obs_names.values\n",
    "    barcode = np.array([selected_sample + '_' + item.split('-')[0] for item in barcode])\n",
    "\n",
    "    print('Counts matrix shape: {} rows(cells), {} columns(genes)'.format(counts_matrix.shape[0], counts_matrix.shape[1]))\n",
    "\n",
    "    scrub = scr.Scrublet(counts_matrix, expected_doublet_rate=0.06)\n",
    "\n",
    "    doublet_scores, predicted_doublets = scrub.scrub_doublets(min_counts=2, \n",
    "                                                              min_cells=3, \n",
    "                                                              min_gene_variability_pctl=85, \n",
    "                                                              n_prin_comps=30)\n",
    "    \n",
    "    # manually set the threshold to call doublet to 0.2\n",
    "    scrub.call_doublets(threshold=0.2)\n",
    "\n",
    "    df = pd.DataFrame()\n",
    "    df['barcode'] = barcode\n",
    "    df['doublet_scores'] = scrub.doublet_scores_obs_\n",
    "    df['predicted_doublets'] = scrub.predicted_doublets_\n",
    "    \n",
    "    df.to_csv('{}_doublet_score_callThreshold_0.2.tsv'.format(selected_sample), sep=\"\\t\", header=True, index=False)\n",
    "    \n",
    "    fig, axs=scrub.plot_histogram()\n",
    "    fig.savefig('{}_doublet_score_hist_callThreshold_0.2.pdf'.format(selected_sample))\n",
    "    plt.close()\n",
    "\n",
    "    print('Running UMAP...')\n",
    "    scrub.set_embedding('UMAP', scr.get_umap(scrub.manifold_obs_, 10, min_dist=0.3))\n",
    "    print('Done.')\n",
    "    \n",
    "    fig, axs=scrub.plot_embedding('UMAP', order_points=True)\n",
    "    fig.savefig('{}_doublet_score_umap_callThreshold_0.2.pdf'.format(selected_sample))\n",
    "    plt.close()"
   ]
  }
 ],
 "metadata": {
  "kernelspec": {
   "display_name": "Python 3 (ipykernel)",
   "language": "python",
   "name": "python3"
  },
  "language_info": {
   "codemirror_mode": {
    "name": "ipython",
    "version": 3
   },
   "file_extension": ".py",
   "mimetype": "text/x-python",
   "name": "python",
   "nbconvert_exporter": "python",
   "pygments_lexer": "ipython3",
   "version": "3.7.12"
  }
 },
 "nbformat": 4,
 "nbformat_minor": 4
}
